{
 "cells": [
  {
   "cell_type": "markdown",
   "id": "present-founder",
   "metadata": {},
   "source": [
    "## Ejercicio 1"
   ]
  },
  {
   "cell_type": "markdown",
   "id": "quantitative-cookbook",
   "metadata": {},
   "source": [
    "1. Ejercicio 1\n",
    "    \n",
    "    1.1 Escribir una clase llamada “Alumno” que contenga los siguientes\n",
    "       - atributos:\n",
    "       - Nombre\n",
    "       - Apellido\n",
    "       - Notas (este atributo debe ser una lista)\n",
    "    \n",
    "    1.2 Escribir el método constructor para que, al instanciar la clase, pida por teclado el Nombre, el Apellido y una serie de notas, tantas como quiera ingresar el usuario.\n",
    "    Las notas deberán estar comprendidas entre 1 y 10, caso contrario mostrar mensaje de error y volver a solicitar.\n",
    "    El ingreso de notas acaba cuando el usuario ingresa el valor 0 (cero)\n",
    "    \n",
    "    1.3 Sobre escribir el método STR para que, al mostrar el objeto por pantalla, muestre los datos de la siguiente manera:\n",
    "    - Nombre: (valor ingresado)\n",
    "    - Apellido: (valor ingresado)\n",
    "    - Promedio: (promedio de las notas ingresadas)\n",
    "    - Estado: Si el promedio es mayor o igual a 7, mostrar la palabra “Promociona”, si es menor a 7 pero mayor o igual a 4, mostrar la palabra “Final” y por último, si el promedio es menor a 4, mostrar la palabra “Recursa”."
   ]
  },
  {
   "cell_type": "code",
   "execution_count": 4,
   "id": "antique-salon",
   "metadata": {},
   "outputs": [
    {
     "name": "stdout",
     "output_type": "stream",
     "text": [
      "Nombre del Alumno: Martin\n",
      "Apellido del Alumno: Pared Baez\n",
      "Ingrese El Numero 0 (Cero) para salir\n",
      "Ingrese una Nota: 10\n",
      "Ingrese una Nota: 8\n",
      "Ingrese una Nota: 0\n",
      "\n",
      "        - Nombre: Martin \n",
      "        - Apellido: Pared Baez\n",
      "        - Promedio: 9.0\n",
      "        - Estado:  \"Promociona\"\n",
      "        \n"
     ]
    }
   ],
   "source": [
    "class Alumno():\n",
    "    nombre = None\n",
    "    apellido = None\n",
    "    notas = []\n",
    "    promedio = None\n",
    "    estado = None\n",
    "\n",
    "    def __init__(self):\n",
    "        self.nombre = input('Nombre del Alumno: ')\n",
    "        self.apellido = input('Apellido del Alumno: ')\n",
    "        print(\"Ingrese El Numero 0 (Cero) para salir\")\n",
    "        while True:\n",
    "            nota = int(input('Ingrese una Nota: '))\n",
    "            if nota == 0:\n",
    "                self.promedio = sum(self.notas) / len(self.notas)\n",
    "                break\n",
    "            elif nota >= 1 and  nota <=10:\n",
    "                self.notas.append(nota)\n",
    "            else:\n",
    "                print(\"Nota Invalidad Intente de Nuevo.\")\n",
    "\n",
    "    def __str__(self):\n",
    "        if (self.promedio >= 7):\n",
    "            self.estado = ' \\\"Promociona\\\"'\n",
    "        elif(self.promedio >= 4 and self.promedio < 7):\n",
    "            self.estado = ' \\\"Final\\\"'\n",
    "        else:\n",
    "            self.estado = ' \\\"Recursa\\\"'\n",
    "        return f\"\"\"\n",
    "        - Nombre: {self.nombre} \n",
    "        - Apellido: {self.apellido}\n",
    "        - Promedio: {self.promedio}\n",
    "        - Estado: {self.estado}\n",
    "        \"\"\"\n",
    "\n",
    "alumno = Alumno()\n",
    "print(alumno)"
   ]
  },
  {
   "cell_type": "markdown",
   "id": "adult-shepherd",
   "metadata": {},
   "source": [
    "## Ejercicio 2"
   ]
  },
  {
   "cell_type": "markdown",
   "id": "regional-tackle",
   "metadata": {},
   "source": [
    "**2.1  Generar una lista de 1.000 (mil) números al azar comprendidos entre 2 mil y 5 mil.**\n",
    "\n",
    "**2.2  Escribir una función lambda, usando FILTER, que me devuelva, en formato LISTA, todos los números pares contenidos en dicha lista.**"
   ]
  },
  {
   "cell_type": "code",
   "execution_count": 58,
   "id": "interstate-hygiene",
   "metadata": {},
   "outputs": [
    {
     "name": "stdout",
     "output_type": "stream",
     "text": [
      "Numeros Al Azar \n",
      "[28, 43, 51, 44, 56, 25, 2, 23, 16, 56, 4, 1, 19, 12, 56, 36, 39, 48, 2, 48, 47, 29, 9, 50, 23, 22, 1, 31, 34, 42, 19, 40, 46, 10, 12, 12, 20, 8, 24, 24, 38, 9, 9, 45, 1, 36, 20, 40, 46, 55, 20, 26, 38, 44, 19]\n",
      "Numeros Pares \n",
      "[28, 44, 56, 2, 16, 56, 4, 12, 56, 36, 48, 2, 48, 50, 22, 34, 42, 40, 46, 10, 12, 12, 20, 8, 24, 24, 38, 36, 20, 40, 46, 20, 26, 38, 44]\n"
     ]
    }
   ],
   "source": [
    "import random\n",
    "numerosAzar = [random.randint(1, 56) for _ in range(55)]\n",
    "\n",
    "print(\"Numeros Al Azar \")\n",
    "print(numerosAzar)\n",
    "\n",
    "numerosPares = list(filter(lambda numero : numero % 2 == 0 ,numerosAzar))\n",
    "print(\"Numeros Pares \")\n",
    "print(numerosPares)"
   ]
  },
  {
   "cell_type": "markdown",
   "id": "verbal-boston",
   "metadata": {},
   "source": [
    "## Ejercicio 3"
   ]
  },
  {
   "cell_type": "markdown",
   "id": "adjusted-metabolism",
   "metadata": {},
   "source": [
    "**Escribir una función lambda, usando REDUCE que me permita calcular el factorial de un número.**"
   ]
  },
  {
   "cell_type": "code",
   "execution_count": 55,
   "id": "relative-punch",
   "metadata": {},
   "outputs": [
    {
     "name": "stdout",
     "output_type": "stream",
     "text": [
      "Ingrese un Numero: 5\n",
      "\n",
      "El factorial es: 120\n"
     ]
    }
   ],
   "source": [
    "from functools import reduce\n",
    "\n",
    "numero = input(\"Ingrese un Numero: \")\n",
    "factorial = (reduce(lambda x,y:x*y,list(range(2,int(numero)+1))))\n",
    "print()\n",
    "print(f\"El factorial es: {factorial}\")"
   ]
  },
  {
   "cell_type": "code",
   "execution_count": 53,
   "id": "brazilian-spine",
   "metadata": {},
   "outputs": [
    {
     "name": "stdout",
     "output_type": "stream",
     "text": [
      "[2, 4, 6, 8, 10, 12, 14, 16, 18, 20, 22, 24, 26, 28, 30, 32, 34, 36, 38, 40, 42, 44, 46, 48, 50, 52, 54, 56, 58]\n"
     ]
    }
   ],
   "source": [
    "valores = [_ for _ in range(1,60)]\n",
    "\n",
    "numerosPares = list(filter(lambda numero : numero % 2 == 0 ,valores))\n",
    "\n",
    "print(numerosPares)"
   ]
  },
  {
   "cell_type": "markdown",
   "id": "strategic-norfolk",
   "metadata": {},
   "source": [
    "## Ejercicio 4"
   ]
  },
  {
   "cell_type": "markdown",
   "id": "departmental-trash",
   "metadata": {},
   "source": [
    "4. Ejercicio 4\n",
    "    1. Escribir una clase llamada “Números” que tenga como único atributo una lista llamada “valores”.\n",
    "    2. Escribir el método constructor para que, al instanciar la clase, solicite cantidad de números al azar que serán generados y guardados en la lista que tiene la clase como atributo y dos valores más que serán el mínimo y el máximo entre los cuales generemos dichos valores al azar.\n",
    "    3. Agregarle un método llamado “candidato” que me devuelva el valor que más se repite entre los números generados al azar. En caso de encontrarse con más de un número que tiene la misma cantidad de repeticiones, se deja a criterio del alumno cuál mostrar."
   ]
  },
  {
   "cell_type": "code",
   "execution_count": 77,
   "id": "banned-productivity",
   "metadata": {},
   "outputs": [
    {
     "name": "stdout",
     "output_type": "stream",
     "text": [
      "Ingrese la Cantidad de Números al Azar: 1000\n",
      "Ingrese el Minimo: 100\n",
      "Ingrese el Maximo: 500\n",
      "Valores Generados\n",
      "[341, 185, 128, 469, 174, 317, 327, 313, 111, 158, 391, 327, 172, 439, 155, 500, 384, 292, 283, 435, 493, 184, 269, 388, 333, 196, 235, 472, 334, 256, 438, 238, 238, 240, 294, 388, 273, 170, 180, 459, 415, 366, 482, 159, 361, 372, 371, 362, 276, 202, 338, 280, 456, 328, 214, 155, 193, 326, 267, 415, 185, 135, 240, 328, 462, 280, 269, 314, 457, 461, 327, 321, 131, 187, 439, 181, 228, 446, 197, 482, 247, 413, 482, 369, 428, 319, 458, 118, 169, 353, 217, 159, 457, 159, 118, 338, 315, 105, 296, 117, 406, 181, 441, 254, 383, 209, 436, 432, 250, 304, 186, 482, 353, 141, 406, 221, 175, 106, 417, 408, 344, 250, 387, 227, 364, 211, 359, 439, 464, 381, 280, 209, 132, 462, 111, 479, 190, 189, 203, 252, 462, 148, 271, 420, 336, 173, 363, 454, 238, 456, 436, 256, 401, 341, 459, 370, 199, 349, 387, 126, 467, 498, 175, 143, 478, 385, 241, 110, 462, 422, 441, 299, 476, 225, 208, 212, 380, 168, 464, 235, 276, 394, 474, 383, 342, 194, 378, 320, 457, 132, 440, 158, 421, 210, 170, 189, 173, 386, 297, 300, 438, 149, 458, 348, 199, 178, 215, 134, 342, 100, 158, 307, 415, 277, 150, 255, 237, 499, 193, 102, 185, 252, 318, 103, 301, 263, 298, 127, 179, 308, 105, 262, 264, 465, 169, 359, 297, 402, 292, 321, 100, 294, 258, 313, 352, 109, 281, 341, 488, 124, 307, 153, 483, 196, 156, 406, 258, 496, 420, 160, 203, 352, 409, 295, 300, 444, 385, 148, 102, 380, 349, 426, 251, 132, 231, 478, 190, 158, 443, 111, 274, 321, 106, 283, 400, 336, 307, 206, 444, 474, 207, 224, 161, 375, 439, 460, 259, 245, 203, 325, 259, 431, 368, 246, 265, 163, 381, 204, 235, 274, 112, 342, 126, 139, 179, 132, 300, 468, 148, 418, 334, 440, 378, 126, 362, 182, 298, 360, 313, 380, 293, 154, 298, 436, 303, 287, 319, 338, 241, 227, 336, 373, 266, 346, 229, 247, 222, 239, 100, 367, 388, 163, 299, 251, 416, 235, 179, 328, 311, 481, 152, 358, 129, 200, 238, 421, 425, 428, 137, 294, 395, 350, 133, 389, 108, 173, 344, 114, 440, 169, 287, 451, 233, 178, 117, 160, 473, 400, 468, 372, 386, 339, 169, 427, 434, 326, 323, 216, 172, 182, 244, 187, 294, 481, 266, 444, 132, 243, 412, 463, 403, 320, 214, 495, 208, 144, 442, 368, 493, 361, 105, 384, 456, 379, 399, 282, 349, 397, 218, 457, 424, 260, 471, 289, 464, 216, 113, 460, 461, 354, 216, 171, 282, 172, 151, 357, 250, 234, 262, 430, 436, 152, 366, 288, 181, 306, 300, 497, 177, 433, 341, 259, 241, 129, 351, 196, 250, 391, 335, 245, 468, 487, 152, 223, 397, 203, 298, 484, 134, 142, 303, 256, 374, 428, 329, 293, 407, 187, 127, 126, 180, 411, 109, 402, 307, 294, 333, 191, 426, 437, 190, 181, 164, 151, 495, 466, 495, 429, 343, 351, 335, 150, 306, 408, 428, 119, 270, 435, 439, 150, 380, 135, 223, 222, 432, 337, 289, 189, 233, 352, 228, 331, 384, 473, 237, 476, 273, 405, 409, 410, 139, 162, 225, 383, 171, 272, 300, 218, 200, 217, 188, 244, 453, 315, 172, 407, 146, 420, 342, 145, 359, 413, 137, 339, 181, 172, 338, 209, 155, 332, 492, 385, 261, 213, 347, 311, 293, 388, 261, 498, 492, 151, 302, 228, 412, 143, 429, 443, 260, 480, 133, 242, 442, 354, 302, 106, 398, 352, 487, 172, 156, 405, 414, 318, 230, 304, 458, 467, 438, 429, 190, 114, 305, 118, 467, 203, 202, 424, 485, 479, 199, 124, 119, 130, 464, 414, 229, 366, 255, 418, 325, 486, 200, 208, 162, 138, 478, 202, 375, 398, 294, 467, 425, 192, 366, 141, 273, 241, 300, 410, 468, 354, 109, 215, 409, 354, 190, 204, 309, 181, 243, 412, 434, 274, 182, 343, 372, 408, 348, 161, 477, 362, 461, 273, 200, 288, 271, 363, 372, 339, 380, 348, 398, 267, 386, 368, 473, 257, 207, 196, 147, 490, 498, 349, 311, 247, 431, 261, 186, 145, 279, 276, 262, 358, 305, 254, 272, 125, 244, 407, 445, 129, 144, 419, 145, 263, 103, 315, 323, 423, 445, 265, 243, 419, 223, 145, 230, 499, 421, 191, 220, 312, 319, 314, 317, 257, 307, 360, 409, 296, 302, 492, 228, 245, 460, 362, 190, 332, 215, 355, 482, 104, 108, 152, 446, 227, 302, 357, 488, 235, 289, 238, 495, 234, 201, 214, 284, 359, 447, 411, 332, 424, 189, 212, 202, 350, 337, 154, 362, 471, 148, 225, 242, 192, 150, 194, 285, 403, 142, 108, 498, 227, 133, 279, 168, 321, 390, 474, 444, 206, 184, 319, 464, 152, 213, 145, 264, 385, 297, 278, 415, 316, 493, 478, 470, 391, 353, 150, 174, 416, 111, 105, 148, 102, 242, 112, 418, 240, 145, 275, 158, 352, 448, 411, 243, 207, 402, 403, 400, 135, 135, 496, 252, 237, 180, 271, 127, 299, 413, 407, 383, 189, 259, 411, 299, 265, 199, 470, 371, 437, 149, 364, 169, 350, 353, 260, 471, 379, 269, 492, 264, 206, 348, 439, 212, 463, 411, 423, 167, 321, 481, 198, 174, 262, 420, 280, 358, 190, 312, 430, 287, 119, 165, 419, 205, 196, 290, 124, 248, 246, 190, 300, 172, 410, 295, 362, 142, 248, 428, 307, 110, 338, 492, 479, 124, 301, 490, 251, 195, 113, 299, 366, 363, 278, 360, 133, 344, 226, 347, 397, 359, 169, 267, 370, 126, 436, 254, 481, 256, 124, 494, 462, 173, 323, 209, 452, 172, 369, 278, 403, 299, 189, 346, 388, 233, 196, 225, 175, 174, 229, 425, 339, 388, 489, 278, 218, 155, 393, 489, 305, 127, 295, 413, 270, 486, 345, 260, 443, 268, 403, 477, 314, 200, 496, 166, 159, 291, 214, 465, 425, 108, 123, 332, 429, 274, 238, 101, 358, 280, 494]\n",
      "Valor que mas se Repite\n",
      "172\n"
     ]
    }
   ],
   "source": [
    "import random\n",
    "class Numeros():\n",
    "    valores = []\n",
    "\n",
    "    def __init__(self):\n",
    "        while True:\n",
    "            cantNumAzar = int(input('Ingrese la Cantidad de Números al Azar: '))\n",
    "            minimo = int(input('Ingrese el Minimo: '))\n",
    "            maximo = int(input('Ingrese el Maximo: '))\n",
    "            if cantNumAzar <= 0 or maximo < minimo:\n",
    "                print(\"El Numero debe se mayor a cero y el Maximo Mayor al Minimo.\")\n",
    "            else:\n",
    "                self.valores = [random.randint(minimo,maximo) for _ in range(cantNumAzar)]\n",
    "                break\n",
    "\n",
    "    def candidato(self):\n",
    "        frecuencias = {}\n",
    "        for valor in self.valores:\n",
    "            if valor in frecuencias:\n",
    "                frecuencias[valor] +=1\n",
    "            else:\n",
    "                frecuencias[valor] =1\n",
    "                \n",
    "        return max(frecuencias, key=lambda key: frecuencias[key])\n",
    "        \n",
    "\n",
    "numeros = Numeros()\n",
    "\n",
    "print(\"Valores Generados\")\n",
    "print(numeros.valores)\n",
    "print(\"Valor que mas se Repite\")\n",
    "print(numeros.candidato())"
   ]
  },
  {
   "cell_type": "code",
   "execution_count": null,
   "id": "threaded-friendship",
   "metadata": {},
   "outputs": [],
   "source": []
  }
 ],
 "metadata": {
  "kernelspec": {
   "display_name": "Python 3",
   "language": "python",
   "name": "python3"
  },
  "language_info": {
   "codemirror_mode": {
    "name": "ipython",
    "version": 3
   },
   "file_extension": ".py",
   "mimetype": "text/x-python",
   "name": "python",
   "nbconvert_exporter": "python",
   "pygments_lexer": "ipython3",
   "version": "3.8.10"
  }
 },
 "nbformat": 4,
 "nbformat_minor": 5
}
