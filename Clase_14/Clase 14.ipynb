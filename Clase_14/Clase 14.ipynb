{
 "cells": [
  {
   "cell_type": "markdown",
   "id": "blank-speech",
   "metadata": {},
   "source": [
    "## Funciones de Orden Superior"
   ]
  },
  {
   "cell_type": "code",
   "execution_count": 3,
   "id": "indoor-cleaner",
   "metadata": {},
   "outputs": [
    {
     "name": "stdout",
     "output_type": "stream",
     "text": [
      "Suma:  10\n",
      "Resta:  4\n"
     ]
    }
   ],
   "source": [
    "def suma(a, b):\n",
    "    return a + b\n",
    "\n",
    "def resta(a, b):\n",
    "    return a - b\n",
    "\n",
    "def producto(a, b):\n",
    "    return a * b\n",
    "\n",
    "def calcular(f, x, y):\n",
    "    return f(x,y)\n",
    "\n",
    "print('Suma: ',calcular(suma, 7, 3))\n",
    "\n",
    "print('Resta: ',calcular(resta, 7, 3))"
   ]
  },
  {
   "cell_type": "markdown",
   "id": "unlike-november",
   "metadata": {},
   "source": [
    "**FILTER**\n",
    "\n",
    "***Devuelve los valores que cumplen con filtro***"
   ]
  },
  {
   "cell_type": "code",
   "execution_count": 5,
   "id": "exotic-highland",
   "metadata": {},
   "outputs": [
    {
     "name": "stdout",
     "output_type": "stream",
     "text": [
      "Multiplos de Tres:  [9, 3]\n",
      "Multiplos de Tres:  [5, 50, 10]\n"
     ]
    }
   ],
   "source": [
    "def multiploTres(valor):\n",
    "    if valor % 3 == 0:\n",
    "        return True\n",
    "    \n",
    "def multiploCinco(valor):\n",
    "    if valor % 5 == 0:\n",
    "        return True\n",
    "    \n",
    "lista = [1,8,9,7,5,50,10,3,8,77,8]\n",
    "\n",
    "print('Multiplos de Tres: ',list(filter(multiploTres,lista)))\n",
    "\n",
    "print('Multiplos de Cinco: ',list(filter(multiploCinco,lista)))"
   ]
  },
  {
   "cell_type": "markdown",
   "id": "quality-photography",
   "metadata": {},
   "source": [
    "**FUNCIONES LAMBDA**"
   ]
  },
  {
   "cell_type": "code",
   "execution_count": 7,
   "id": "sporting-consciousness",
   "metadata": {},
   "outputs": [
    {
     "name": "stdout",
     "output_type": "stream",
     "text": [
      "20\n"
     ]
    }
   ],
   "source": [
    "def producto(x, y):\n",
    "    return x * y\n",
    "\n",
    "#lambda\n",
    "product = lambda x,y : x*y\n",
    "\n",
    "print(product(4,5))\n"
   ]
  },
  {
   "cell_type": "markdown",
   "id": "intensive-covering",
   "metadata": {},
   "source": [
    "**FILTER EN FORMATO LAMBDA**"
   ]
  },
  {
   "cell_type": "code",
   "execution_count": 13,
   "id": "national-singapore",
   "metadata": {},
   "outputs": [
    {
     "name": "stdout",
     "output_type": "stream",
     "text": [
      "Multiplos de Tres Lambda:  [9, 3]\n",
      "Multiplos de Cinco Lambda:  [5, 50, 10]\n"
     ]
    }
   ],
   "source": [
    "print('Multiplos de Tres Lambda: ',list(filter(lambda x: x%3==0,lista)))\n",
    "\n",
    "print('Multiplos de Cinco Lambda: ',list(filter(lambda x: x%5==0,lista)))"
   ]
  },
  {
   "cell_type": "markdown",
   "id": "voluntary-climb",
   "metadata": {},
   "source": [
    "**MAP**\n",
    "\n",
    "***Devuelve los valores aplicando el filtro***"
   ]
  },
  {
   "cell_type": "code",
   "execution_count": 11,
   "id": "compliant-temperature",
   "metadata": {},
   "outputs": [
    {
     "name": "stdout",
     "output_type": "stream",
     "text": [
      "Numero al Cudrado:  [1, 64, 81, 49, 25, 2500, 100, 9, 64, 5929, 64]\n",
      "[1, 8, 9, 7, 5, 50, 10, 3, 8, 77, 8]\n"
     ]
    }
   ],
   "source": [
    "def cuadrado(x):\n",
    "    return pow(x,2)\n",
    "\n",
    "print('Numeros al Cudrado: ',list(map(cuadrado,lista)))\n",
    "\n",
    "print(lista)"
   ]
  },
  {
   "cell_type": "markdown",
   "id": "cloudy-token",
   "metadata": {},
   "source": [
    "**MAP EN FORMATO LAMBDA**"
   ]
  },
  {
   "cell_type": "code",
   "execution_count": 12,
   "id": "russian-attribute",
   "metadata": {
    "scrolled": true
   },
   "outputs": [
    {
     "name": "stdout",
     "output_type": "stream",
     "text": [
      "Numero al Cudrado:  [1, 64, 81, 49, 25, 2500, 100, 9, 64, 5929, 64]\n"
     ]
    }
   ],
   "source": [
    "print('Numero al Cudrado Lambda: ',list(map(lambda x: pow(x,2),lista)))"
   ]
  },
  {
   "cell_type": "markdown",
   "id": "ordered-extent",
   "metadata": {},
   "source": [
    "**MAP CON 2 LISTAS**"
   ]
  },
  {
   "cell_type": "code",
   "execution_count": 16,
   "id": "enclosed-startup",
   "metadata": {},
   "outputs": [
    {
     "name": "stdout",
     "output_type": "stream",
     "text": [
      "Suma elementos Lambda:  [2, 4, 6, 8, 10, 12, 14, 16]\n"
     ]
    }
   ],
   "source": [
    "lista_1 = [1,2,3,4,5,6,7,8]\n",
    "lista_2 = [1,2,3,4,5,6,7,8]\n",
    "\n",
    "print('Suma elementos Lambda: ',list(map(lambda x,y: x+y,lista_1, lista_2)))"
   ]
  },
  {
   "cell_type": "markdown",
   "id": "august-slovakia",
   "metadata": {},
   "source": [
    "**REDUCE**\n",
    "\n",
    "***Toma una coleccion y lo reduce un un solo valor***"
   ]
  },
  {
   "cell_type": "code",
   "execution_count": 21,
   "id": "bottom-homeless",
   "metadata": {
    "scrolled": true
   },
   "outputs": [
    {
     "name": "stdout",
     "output_type": "stream",
     "text": [
      "Sumatoria de Elementos:  372\n",
      "Sumatoria de Elementos Lambda:  372\n"
     ]
    }
   ],
   "source": [
    "from functools import reduce\n",
    "\n",
    "lista_3 = [8,9,2,8,41,3,46,65,33,58,99]\n",
    "\n",
    "def sumarElementos(a,b):\n",
    "    return a + b\n",
    "\n",
    "print('Sumatoria de Elementos: ', reduce(sumarElementos,lista_3))\n",
    "\n",
    "print('Sumatoria de Elementos Lambda: ', reduce(lambda a,b: a+b,lista_3))\n",
    "    "
   ]
  },
  {
   "cell_type": "markdown",
   "id": "secret-modeling",
   "metadata": {},
   "source": [
    "## DATETIME"
   ]
  },
  {
   "cell_type": "code",
   "execution_count": 24,
   "id": "congressional-armor",
   "metadata": {},
   "outputs": [],
   "source": [
    "import datetime\n",
    "\n",
    "fechaActual = datetime.datetime.now()\n",
    "\n",
    "print(fechaActual)"
   ]
  },
  {
   "cell_type": "code",
   "execution_count": 26,
   "id": "residential-highlight",
   "metadata": {},
   "outputs": [
    {
     "name": "stdout",
     "output_type": "stream",
     "text": [
      "Año 2021\n",
      "Mes 6\n",
      "Dia 22\n",
      "Hora 22\n",
      "Minutos 17\n",
      "Segundos 13\n",
      "Microsegundos 56089\n"
     ]
    }
   ],
   "source": [
    "print('Año' ,fechaActual.year)\n",
    "print('Mes' ,fechaActual.month)\n",
    "print('Dia' ,fechaActual.day)\n",
    "print('Hora' ,fechaActual.hour)\n",
    "print('Minutos' ,fechaActual.minute)\n",
    "print('Segundos' ,fechaActual.second)\n",
    "print('Microsegundos' ,fechaActual.microsecond)"
   ]
  },
  {
   "cell_type": "code",
   "execution_count": 28,
   "id": "derived-project",
   "metadata": {},
   "outputs": [
    {
     "name": "stdout",
     "output_type": "stream",
     "text": [
      "2020-03-20 00:00:00\n"
     ]
    }
   ],
   "source": [
    "fecha = datetime.datetime(2020,3,20)\n",
    "print(fecha)"
   ]
  },
  {
   "cell_type": "code",
   "execution_count": 29,
   "id": "demonstrated-adobe",
   "metadata": {
    "scrolled": true
   },
   "outputs": [
    {
     "name": "stdout",
     "output_type": "stream",
     "text": [
      "2043-03-20 00:00:00\n"
     ]
    }
   ],
   "source": [
    "fecha = fecha.replace(year = 2043)\n",
    "print(fecha)\n"
   ]
  },
  {
   "cell_type": "code",
   "execution_count": 30,
   "id": "infectious-compiler",
   "metadata": {
    "scrolled": false
   },
   "outputs": [
    {
     "name": "stdout",
     "output_type": "stream",
     "text": [
      "2043-03-20T00:00:00\n"
     ]
    }
   ],
   "source": [
    "print(fecha.isoformat())"
   ]
  },
  {
   "cell_type": "markdown",
   "id": "sealed-month",
   "metadata": {},
   "source": [
    "**LOCALE**"
   ]
  },
  {
   "cell_type": "code",
   "execution_count": 46,
   "id": "corporate-column",
   "metadata": {
    "scrolled": true
   },
   "outputs": [
    {
     "name": "stdout",
     "output_type": "stream",
     "text": [
      "es_AR.UTF-8\n"
     ]
    }
   ],
   "source": [
    "import locale \n",
    "\n",
    "print(locale.setlocale(locale.LC_ALL,''))"
   ]
  },
  {
   "cell_type": "code",
   "execution_count": 47,
   "id": "conscious-bristol",
   "metadata": {
    "scrolled": true
   },
   "outputs": [
    {
     "name": "stdout",
     "output_type": "stream",
     "text": [
      "martes 22 junio\n"
     ]
    }
   ],
   "source": [
    "print(fechaActual.strftime('%A %d %B'))"
   ]
  },
  {
   "cell_type": "markdown",
   "id": "bottom-ethics",
   "metadata": {},
   "source": [
    "**DELTA**\n",
    "\n",
    "***Es un diferencial***"
   ]
  },
  {
   "cell_type": "code",
   "execution_count": 51,
   "id": "shared-feelings",
   "metadata": {
    "scrolled": false
   },
   "outputs": [
    {
     "name": "stdout",
     "output_type": "stream",
     "text": [
      "martes 22 junio\n",
      "domingo 27 junio\n"
     ]
    }
   ],
   "source": [
    "sumarFecha = datetime.timedelta(days=4, hours=23)\n",
    "\n",
    "print(fechaActual.strftime('%A %d %B'))\n",
    "\n",
    "nuevaFecha = fechaActual  + sumarFecha\n",
    "\n",
    "print(nuevaFecha.strftime('%A %d %B'))"
   ]
  },
  {
   "cell_type": "markdown",
   "id": "precious-flexibility",
   "metadata": {},
   "source": [
    "## Documentacion"
   ]
  },
  {
   "cell_type": "code",
   "execution_count": 53,
   "id": "federal-stanford",
   "metadata": {},
   "outputs": [
    {
     "name": "stdout",
     "output_type": "stream",
     "text": [
      "La suma es:  15\n",
      "Help on function suma in module __main__:\n",
      "\n",
      "suma(a, b)\n",
      "    Esta funcion recibe dos valores y muestra la suma de ambos\n",
      "\n"
     ]
    }
   ],
   "source": [
    "def suma(a, b):\n",
    "    \"\"\"Esta funcion recibe dos valores y muestra la suma de ambos\"\"\"\n",
    "    print(\"La suma es: \", a+b)\n",
    "    \n",
    "suma(7,8)\n",
    "help(suma)"
   ]
  },
  {
   "cell_type": "code",
   "execution_count": 63,
   "id": "first-instrument",
   "metadata": {},
   "outputs": [
    {
     "name": "stdout",
     "output_type": "stream",
     "text": [
      "Mi Clase tiene Mi Clase\n",
      "Help on class MiClase in module __main__:\n",
      "\n",
      "class MiClase(builtins.object)\n",
      " |  Methods defined here:\n",
      " |  \n",
      " |  __init__(self)\n",
      " |      Initialize self.  See help(type(self)) for accurate signature.\n",
      " |  \n",
      " |  __str__(self)\n",
      " |      Return str(self).\n",
      " |  \n",
      " |  simple(self)\n",
      " |  \n",
      " |  ----------------------------------------------------------------------\n",
      " |  Data descriptors defined here:\n",
      " |  \n",
      " |  __dict__\n",
      " |      dictionary for instance variables (if defined)\n",
      " |  \n",
      " |  __weakref__\n",
      " |      list of weak references to the object (if defined)\n",
      " |  \n",
      " |  ----------------------------------------------------------------------\n",
      " |  Data and other attributes defined here:\n",
      " |  \n",
      " |  propiedad = 'Mi Clase'\n",
      "\n"
     ]
    }
   ],
   "source": [
    "class MiClase():\n",
    "    propiedad = 'Mi Clase'\n",
    "    \"\"\"Metodo Constructor\"\"\"\n",
    "    def __init__(self):\n",
    "        pass\n",
    "    \n",
    "    \"Metodo Simple\"\"\"\n",
    "    def simple(self):\n",
    "        pass\n",
    "    \n",
    "    \"\"\"Metodo ToString\"\"\"\n",
    "    def __str__(self):\n",
    "        return f\"Mi Clase tiene {self.propiedad}\"\n",
    "\n",
    "clase = MiClase()\n",
    "print(clase)\n",
    "help(MiClase)"
   ]
  },
  {
   "cell_type": "markdown",
   "id": "christian-repeat",
   "metadata": {},
   "source": [
    "## Errores"
   ]
  },
  {
   "cell_type": "code",
   "execution_count": 67,
   "id": "olive-retail",
   "metadata": {},
   "outputs": [
    {
     "name": "stdout",
     "output_type": "stream",
     "text": [
      "Ingrese un Numero: 5\n"
     ]
    }
   ],
   "source": [
    "try:\n",
    "    valor = int(input(\"Ingrese un Numero: \"))\n",
    "except:\n",
    "    print('Se Cometio un Error')"
   ]
  },
  {
   "cell_type": "code",
   "execution_count": 68,
   "id": "dressed-opinion",
   "metadata": {},
   "outputs": [
    {
     "name": "stdout",
     "output_type": "stream",
     "text": [
      "Ingrese un Numero: asdasd\n",
      "Se Cometio un Error\n",
      "Ingrese un Numero: asdadasd\n",
      "Se Cometio un Error\n",
      "Ingrese un Numero: asdadasd\n",
      "Se Cometio un Error\n",
      "Ingrese un Numero: asdasdas\n",
      "Se Cometio un Error\n",
      "Ingrese un Numero: 4\n",
      "Valor Ingresado 4\n"
     ]
    }
   ],
   "source": [
    "while(True):\n",
    "    try:\n",
    "        valor = int(input(\"Ingrese un Numero: \"))\n",
    "        break\n",
    "    except:\n",
    "        print('Se Cometio un Error')\n",
    "print(f\"Valor Ingresado {valor}\")"
   ]
  },
  {
   "cell_type": "code",
   "execution_count": 69,
   "id": "noticed-windows",
   "metadata": {},
   "outputs": [
    {
     "name": "stdout",
     "output_type": "stream",
     "text": [
      "Ingrese un Numero: adasdsa\n",
      "Se Cometio un Error\n",
      "Ingrese un Numero: dasdasd\n",
      "Se Cometio un Error\n",
      "Ingrese un Numero: 2\n"
     ]
    }
   ],
   "source": [
    "while(True):\n",
    "    try:\n",
    "        valor = int(input(\"Ingrese un Numero: \"))\n",
    "        break\n",
    "    except:\n",
    "        print('Se Cometio un Error')\n",
    "    else:\n",
    "        print(f\"Valor Ingresado {valor}\")"
   ]
  },
  {
   "cell_type": "code",
   "execution_count": null,
   "id": "compact-shirt",
   "metadata": {},
   "outputs": [],
   "source": []
  }
 ],
 "metadata": {
  "kernelspec": {
   "display_name": "Python 3",
   "language": "python",
   "name": "python3"
  },
  "language_info": {
   "codemirror_mode": {
    "name": "ipython",
    "version": 3
   },
   "file_extension": ".py",
   "mimetype": "text/x-python",
   "name": "python",
   "nbconvert_exporter": "python",
   "pygments_lexer": "ipython3",
   "version": "3.8.10"
  }
 },
 "nbformat": 4,
 "nbformat_minor": 5
}
