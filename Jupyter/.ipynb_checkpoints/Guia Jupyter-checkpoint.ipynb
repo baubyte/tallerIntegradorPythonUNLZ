{
 "cells": [
  {
   "cell_type": "markdown",
   "id": "needed-collins",
   "metadata": {},
   "source": [
    "# Guia de Ejercicios\n"
   ]
  },
  {
   "cell_type": "markdown",
   "id": "focused-biodiversity",
   "metadata": {},
   "source": [
    "### Ejercicio 1\n",
    "Hacer un menu de opciones"
   ]
  },
  {
   "cell_type": "markdown",
   "id": "tutorial-appeal",
   "metadata": {},
   "source": [
    "**Texto en Negritas**"
   ]
  },
  {
   "cell_type": "markdown",
   "id": "defined-recognition",
   "metadata": {},
   "source": [
    "*Texto en Cursiva*\n",
    "- Opcion 1\n",
    "- Opcion 2\n",
    "1. Opcion A\n",
    "2. Opcion B"
   ]
  },
  {
   "cell_type": "code",
   "execution_count": 3,
   "id": "brilliant-shannon",
   "metadata": {},
   "outputs": [
    {
     "name": "stdout",
     "output_type": "stream",
     "text": [
      "Martin\n"
     ]
    }
   ],
   "source": [
    "#Variables\n",
    "nombre = 'Martin'\n",
    "print(nombre)"
   ]
  },
  {
   "cell_type": "code",
   "execution_count": null,
   "id": "handmade-writer",
   "metadata": {},
   "outputs": [],
   "source": []
  }
 ],
 "metadata": {
  "kernelspec": {
   "display_name": "Python 3",
   "language": "python",
   "name": "python3"
  },
  "language_info": {
   "codemirror_mode": {
    "name": "ipython",
    "version": 3
   },
   "file_extension": ".py",
   "mimetype": "text/x-python",
   "name": "python",
   "nbconvert_exporter": "python",
   "pygments_lexer": "ipython3",
   "version": "3.8.5"
  }
 },
 "nbformat": 4,
 "nbformat_minor": 5
}
